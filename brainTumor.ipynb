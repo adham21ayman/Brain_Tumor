{
  "nbformat": 4,
  "nbformat_minor": 0,
  "metadata": {
    "colab": {
      "provenance": [],
      "gpuType": "T4",
      "mount_file_id": "1nNF1mKm_O6FHuZb7QOGCOglc-YmyVIo2",
      "authorship_tag": "ABX9TyPvzDQM69K9isqli9gJVknm",
      "include_colab_link": true
    },
    "kernelspec": {
      "name": "python3",
      "display_name": "Python 3"
    },
    "language_info": {
      "name": "python"
    },
    "accelerator": "GPU"
  },
  "cells": [
    {
      "cell_type": "markdown",
      "metadata": {
        "id": "view-in-github",
        "colab_type": "text"
      },
      "source": [
        "<a href=\"https://colab.research.google.com/github/adham21ayman/Brain_Tumor/blob/main/brainTumor.ipynb\" target=\"_parent\"><img src=\"https://colab.research.google.com/assets/colab-badge.svg\" alt=\"Open In Colab\"/></a>"
      ]
    },
    {
      "cell_type": "code",
      "execution_count": null,
      "metadata": {
        "id": "zGBV9b7j3JyP"
      },
      "outputs": [],
      "source": [
        "import tensorflow as tf"
      ]
    },
    {
      "cell_type": "code",
      "source": [
        "TRAIN_DIR = \"/content/drive/MyDrive/Colab Notebooks/Brain Tumor/Data/Training\"\n",
        "TEST_DIR = \"/content/drive/MyDrive/Colab Notebooks/Brain Tumor/Data/Testing\"\n",
        "CLASS_NAME = ['no_tumor', 'benign_tumor', 'malignant_tumor']"
      ],
      "metadata": {
        "id": "9m0MZpHf3SJk"
      },
      "execution_count": null,
      "outputs": []
    },
    {
      "cell_type": "code",
      "source": [
        "train , val = tf.keras.utils.image_dataset_from_directory(\n",
        "    TRAIN_DIR,\n",
        "    labels='inferred',\n",
        "    label_mode='int',\n",
        "    class_names=CLASS_NAME,\n",
        "    color_mode='rgb',\n",
        "    batch_size=32,\n",
        "    image_size=(224, 224),\n",
        "    shuffle=True,\n",
        "    seed=21,\n",
        "    validation_split=0.2,\n",
        "    subset=\"both\",\n",
        ")"
      ],
      "metadata": {
        "colab": {
          "base_uri": "https://localhost:8080/"
        },
        "id": "--s6j2p_7yeL",
        "outputId": "426ba569-d461-49db-ddbe-4252763d1cb4"
      },
      "execution_count": null,
      "outputs": [
        {
          "output_type": "stream",
          "name": "stdout",
          "text": [
            "Found 2870 files belonging to 3 classes.\n",
            "Using 2296 files for training.\n",
            "Using 574 files for validation.\n"
          ]
        }
      ]
    },
    {
      "cell_type": "code",
      "source": [
        "test = tf.keras.utils.image_dataset_from_directory(\n",
        "    TEST_DIR,\n",
        "    labels='inferred',\n",
        "    label_mode='int',\n",
        "    class_names=CLASS_NAME,\n",
        "    color_mode='rgb',\n",
        "    batch_size=32,\n",
        "    image_size=(224, 224),\n",
        "    shuffle=True,\n",
        "    seed=21,\n",
        ")"
      ],
      "metadata": {
        "colab": {
          "base_uri": "https://localhost:8080/"
        },
        "id": "Pu3pkHrdCUPw",
        "outputId": "93e52b04-2d51-4724-81b4-2a7b9bd3aad7"
      },
      "execution_count": null,
      "outputs": [
        {
          "output_type": "stream",
          "name": "stdout",
          "text": [
            "Found 320 files belonging to 3 classes.\n"
          ]
        }
      ]
    },
    {
      "cell_type": "code",
      "source": [
        "auto = tf.data.AUTOTUNE\n",
        "train = train.prefetch(auto)\n",
        "val = val.prefetch(auto)\n",
        "test = test.prefetch(auto)"
      ],
      "metadata": {
        "id": "e4LeESiAJ5sw"
      },
      "execution_count": null,
      "outputs": []
    },
    {
      "cell_type": "code",
      "source": [
        "base_model = tf.keras.applications.InceptionResNetV2(\n",
        "    include_top=False,\n",
        "    weights='imagenet',\n",
        "    input_shape=(224, 224,3),\n",
        "    )"
      ],
      "metadata": {
        "id": "HDq021CBVP6w",
        "colab": {
          "base_uri": "https://localhost:8080/"
        },
        "outputId": "d11d2f83-7b90-4e90-f59f-439684967d62"
      },
      "execution_count": null,
      "outputs": [
        {
          "output_type": "stream",
          "name": "stdout",
          "text": [
            "Downloading data from https://storage.googleapis.com/tensorflow/keras-applications/inception_resnet_v2/inception_resnet_v2_weights_tf_dim_ordering_tf_kernels_notop.h5\n",
            "219055592/219055592 [==============================] - 1s 0us/step\n"
          ]
        }
      ]
    },
    {
      "cell_type": "code",
      "source": [
        "for layer in base_model.layers:\n",
        "    layer.trainable = False"
      ],
      "metadata": {
        "id": "VXbLd6DwAf4p"
      },
      "execution_count": null,
      "outputs": []
    },
    {
      "cell_type": "code",
      "source": [
        "# Define input shape\n",
        "input_shape = (224, 224, 3)\n",
        "inputs = tf.keras.Input(shape=input_shape)\n",
        "\n",
        "# Preprocessing layers\n",
        "x = tf.keras.layers.experimental.preprocessing.Rescaling(scale=1./255)(inputs)\n",
        "x = tf.keras.layers.experimental.preprocessing.Resizing(224, 224)(x)\n",
        "\n",
        "# Data augmentation layers\n",
        "x = tf.keras.layers.experimental.preprocessing.RandomFlip(mode='horizontal')(x)\n",
        "x = tf.keras.layers.experimental.preprocessing.RandomRotation(factor=0.2)(x)\n",
        "x = tf.keras.layers.experimental.preprocessing.RandomZoom(height_factor=0.2, width_factor=0.2)(x)\n",
        "\n",
        "# Base model\n",
        "x = base_model(x)\n",
        "\n",
        "# Flatten and dense layers\n",
        "x = tf.keras.layers.Flatten()(x)\n",
        "x = tf.keras.layers.Dropout(rate=0.3)(x)\n",
        "x = tf.keras.layers.Dense(512, activation='relu')(x)\n",
        "x = tf.keras.layers.Dropout(rate=0.25)(x)\n",
        "\n",
        "# Output layer\n",
        "outputs = tf.keras.layers.Dense(3, activation='softmax')(x)\n",
        "\n",
        "# Define the model\n",
        "model = tf.keras.Model(inputs, outputs)\n"
      ],
      "metadata": {
        "id": "ayuiVrM8yCEJ"
      },
      "execution_count": null,
      "outputs": []
    },
    {
      "cell_type": "code",
      "source": [
        "for layer in base_model.layers:\n",
        "    layer.trainable = True"
      ],
      "metadata": {
        "id": "e6w8Tagdye5U"
      },
      "execution_count": null,
      "outputs": []
    },
    {
      "cell_type": "code",
      "source": [
        "#after 10 epoch the learn rate will be (e**-1)*LR after evry epoch\n",
        "def scheduler(epoch, lr):\n",
        "  if epoch < 10:\n",
        "    return lr\n",
        "  else:\n",
        "    return lr * tf.math.exp(-0.1)"
      ],
      "metadata": {
        "id": "Ukrk5YlcW_cR"
      },
      "execution_count": null,
      "outputs": []
    },
    {
      "cell_type": "code",
      "source": [
        "learn_rate_callback = tf.keras.callbacks.LearningRateScheduler(scheduler)"
      ],
      "metadata": {
        "id": "dz2JSBA0XU9H"
      },
      "execution_count": null,
      "outputs": []
    },
    {
      "cell_type": "code",
      "source": [
        "stopping_callback = tf.keras.callbacks.EarlyStopping(\n",
        "    monitor='val_loss',\n",
        "    min_delta=0,\n",
        "    patience=4,\n",
        "    verbose=0,\n",
        "    mode='auto',\n",
        "    baseline=None,\n",
        "    restore_best_weights=True,\n",
        "    start_from_epoch=10\n",
        ")"
      ],
      "metadata": {
        "id": "AAU652mxXXEE"
      },
      "execution_count": null,
      "outputs": []
    },
    {
      "cell_type": "code",
      "source": [
        "model.compile(optimizer=\"adam\", loss='sparse_categorical_crossentropy', metrics=['accuracy'])\n",
        "\n",
        "history_model= model.fit(train, epochs=40,validation_data=val,callbacks=[learn_rate_callback,stopping_callback])"
      ],
      "metadata": {
        "colab": {
          "base_uri": "https://localhost:8080/"
        },
        "id": "nrqBHvs4XZsC",
        "outputId": "0ac189e7-3179-4a20-ecb1-72c0256e921f"
      },
      "execution_count": null,
      "outputs": [
        {
          "output_type": "stream",
          "name": "stdout",
          "text": [
            "Epoch 1/40\n",
            "72/72 [==============================] - 124s 624ms/step - loss: 0.1026 - accuracy: 0.9769 - val_loss: 0.4589 - val_accuracy: 0.8885 - lr: 0.0010\n",
            "Epoch 2/40\n",
            "72/72 [==============================] - 45s 614ms/step - loss: 0.0927 - accuracy: 0.9691 - val_loss: 2.6306 - val_accuracy: 0.8815 - lr: 0.0010\n",
            "Epoch 3/40\n",
            "72/72 [==============================] - 43s 585ms/step - loss: 0.0904 - accuracy: 0.9726 - val_loss: 0.1779 - val_accuracy: 0.9425 - lr: 0.0010\n",
            "Epoch 4/40\n",
            "72/72 [==============================] - 43s 581ms/step - loss: 0.0496 - accuracy: 0.9830 - val_loss: 0.1092 - val_accuracy: 0.9617 - lr: 0.0010\n",
            "Epoch 5/40\n",
            "72/72 [==============================] - 43s 583ms/step - loss: 0.0561 - accuracy: 0.9830 - val_loss: 0.4065 - val_accuracy: 0.9164 - lr: 0.0010\n",
            "Epoch 6/40\n",
            "72/72 [==============================] - 43s 584ms/step - loss: 0.0434 - accuracy: 0.9852 - val_loss: 0.4423 - val_accuracy: 0.9007 - lr: 0.0010\n",
            "Epoch 7/40\n",
            "72/72 [==============================] - 43s 580ms/step - loss: 0.0675 - accuracy: 0.9795 - val_loss: 0.1185 - val_accuracy: 0.9599 - lr: 0.0010\n",
            "Epoch 8/40\n",
            "72/72 [==============================] - 45s 613ms/step - loss: 0.0753 - accuracy: 0.9843 - val_loss: 15.1829 - val_accuracy: 0.4024 - lr: 0.0010\n",
            "Epoch 9/40\n",
            "72/72 [==============================] - 43s 580ms/step - loss: 0.1940 - accuracy: 0.9429 - val_loss: 14.5783 - val_accuracy: 0.4408 - lr: 0.0010\n",
            "Epoch 10/40\n",
            "72/72 [==============================] - 43s 582ms/step - loss: 0.0784 - accuracy: 0.9739 - val_loss: 0.8292 - val_accuracy: 0.8589 - lr: 0.0010\n",
            "Epoch 11/40\n",
            "72/72 [==============================] - 44s 598ms/step - loss: 0.0647 - accuracy: 0.9774 - val_loss: 0.4645 - val_accuracy: 0.8990 - lr: 9.0484e-04\n",
            "Epoch 12/40\n",
            "72/72 [==============================] - 43s 583ms/step - loss: 0.0281 - accuracy: 0.9913 - val_loss: 0.8865 - val_accuracy: 0.8432 - lr: 8.1873e-04\n",
            "Epoch 13/40\n",
            "72/72 [==============================] - 45s 621ms/step - loss: 0.0365 - accuracy: 0.9861 - val_loss: 0.2449 - val_accuracy: 0.9408 - lr: 7.4082e-04\n",
            "Epoch 14/40\n",
            "72/72 [==============================] - 43s 586ms/step - loss: 0.0292 - accuracy: 0.9909 - val_loss: 0.2314 - val_accuracy: 0.9373 - lr: 6.7032e-04\n",
            "Epoch 15/40\n",
            "72/72 [==============================] - 43s 588ms/step - loss: 0.0283 - accuracy: 0.9917 - val_loss: 0.2200 - val_accuracy: 0.9599 - lr: 6.0653e-04\n",
            "Epoch 16/40\n",
            "72/72 [==============================] - 43s 591ms/step - loss: 0.0208 - accuracy: 0.9939 - val_loss: 0.1824 - val_accuracy: 0.9564 - lr: 5.4881e-04\n",
            "Epoch 17/40\n",
            "72/72 [==============================] - 43s 583ms/step - loss: 0.0244 - accuracy: 0.9917 - val_loss: 0.2568 - val_accuracy: 0.9530 - lr: 4.9659e-04\n",
            "Epoch 18/40\n",
            "72/72 [==============================] - 42s 580ms/step - loss: 0.0132 - accuracy: 0.9948 - val_loss: 0.2449 - val_accuracy: 0.9530 - lr: 4.4933e-04\n",
            "Epoch 19/40\n",
            "72/72 [==============================] - 43s 584ms/step - loss: 0.0138 - accuracy: 0.9965 - val_loss: 0.3152 - val_accuracy: 0.9564 - lr: 4.0657e-04\n",
            "Epoch 20/40\n",
            "72/72 [==============================] - 44s 596ms/step - loss: 0.0134 - accuracy: 0.9978 - val_loss: 0.2695 - val_accuracy: 0.9547 - lr: 3.6788e-04\n"
          ]
        }
      ]
    },
    {
      "cell_type": "code",
      "source": [
        "model.evaluate(test)"
      ],
      "metadata": {
        "id": "A9Z-CU2RfJGo",
        "colab": {
          "base_uri": "https://localhost:8080/"
        },
        "outputId": "ab5f4f13-34cf-4a7a-c1b9-e5ea3d5a99b3"
      },
      "execution_count": null,
      "outputs": [
        {
          "output_type": "stream",
          "name": "stdout",
          "text": [
            "10/10 [==============================] - 2s 164ms/step - loss: 3.3538 - accuracy: 0.7469\n"
          ]
        },
        {
          "output_type": "execute_result",
          "data": {
            "text/plain": [
              "[3.3537871837615967, 0.746874988079071]"
            ]
          },
          "metadata": {},
          "execution_count": 30
        }
      ]
    },
    {
      "cell_type": "code",
      "source": [
        "# model.save('/content/drive/MyDrive/Colab Notebooks/Brain Tumor/model/brain768.h5')"
      ],
      "metadata": {
        "id": "pyVVxIVxfRG5"
      },
      "execution_count": null,
      "outputs": []
    },
    {
      "cell_type": "code",
      "source": [],
      "metadata": {
        "id": "Sw0-E1Gc482b"
      },
      "execution_count": null,
      "outputs": []
    }
  ]
}